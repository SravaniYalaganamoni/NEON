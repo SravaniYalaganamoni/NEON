{
 "cells": [
  {
   "cell_type": "markdown",
   "id": "0af10104",
   "metadata": {},
   "source": [
    "# Product DB — Colab Queries & Peer Review"
   ]
  },
  {
   "cell_type": "code",
   "execution_count": null,
   "id": "a552799f",
   "metadata": {},
   "outputs": [],
   "source": [
    "\n",
    "import os, getpass, pandas as pd\n",
    "from sqlalchemy import create_engine, text\n",
    "\n",
    "STUDENT_DB_URL = os.environ.get(\"NEON_STUDENT_DB_URL\") or getpass.getpass(\"Paste STUDENT DB URL (hidden): \")\n",
    "engine = create_engine(STUDENT_DB_URL, pool_pre_ping=True, future=True)\n",
    "\n",
    "def run_query(sql: str) -> pd.DataFrame:\n",
    "    with engine.connect() as conn:\n",
    "        df = pd.read_sql_query(text(sql), conn)\n",
    "    return df\n",
    "\n",
    "pd.set_option(\"display.max_rows\", 50)\n",
    "pd.set_option(\"display.max_columns\", 20)\n",
    "print(\"Engine ready. ✅\")\n"
   ]
  },
  {
   "cell_type": "code",
   "execution_count": null,
   "id": "3231ba26",
   "metadata": {},
   "outputs": [],
   "source": [
    "\n",
    "# Sanity check\n",
    "counts_sql = '''\n",
    "SELECT 'product' AS table, COUNT(*) AS rows FROM product\n",
    "UNION ALL SELECT 'pc', COUNT(*) FROM pc\n",
    "UNION ALL SELECT 'laptop', COUNT(*) FROM laptop\n",
    "UNION ALL SELECT 'printer', COUNT(*) FROM printer;\n",
    "'''\n",
    "run_query(counts_sql)\n"
   ]
  },
  {
   "cell_type": "code",
   "execution_count": null,
   "id": "bc88c371",
   "metadata": {},
   "outputs": [],
   "source": [
    "\n",
    "# Query 1\n",
    "q1 = '''\n",
    "WITH catalog AS (\n",
    "  SELECT p.maker, p.model, p.type,\n",
    "         COALESCE(pc.price, l.price, pr.price) AS price\n",
    "  FROM product p\n",
    "  LEFT JOIN pc      pc  ON pc.model  = p.model\n",
    "  LEFT JOIN laptop  l   ON l.model   = p.model\n",
    "  LEFT JOIN printer pr  ON pr.model  = p.model\n",
    "  WHERE COALESCE(pc.price, l.price, pr.price) IS NOT NULL\n",
    "),\n",
    "ranked AS (\n",
    "  SELECT maker, model, type, price,\n",
    "         DENSE_RANK() OVER (PARTITION BY type ORDER BY price DESC) AS rnk\n",
    "  FROM catalog\n",
    ")\n",
    "SELECT type, maker, model, price\n",
    "FROM ranked\n",
    "WHERE rnk <= 3\n",
    "ORDER BY type, price DESC, maker, model;\n",
    "'''\n",
    "run_query(q1)\n"
   ]
  },
  {
   "cell_type": "code",
   "execution_count": null,
   "id": "2f092a70",
   "metadata": {},
   "outputs": [],
   "source": [
    "\n",
    "# Query 2\n",
    "q2 = '''\n",
    "SELECT maker\n",
    "FROM product p\n",
    "GROUP BY maker\n",
    "HAVING\n",
    "  SUM(CASE WHEN type = 'pc' THEN 1 ELSE 0 END) > 0\n",
    "  AND SUM(CASE WHEN type = 'laptop' THEN 1 ELSE 0 END) > 0\n",
    "  AND SUM(CASE WHEN type = 'printer' THEN 1 ELSE 0 END) > 0\n",
    "ORDER BY maker;\n",
    "'''\n",
    "run_query(q2)\n"
   ]
  },
  {
   "cell_type": "code",
   "execution_count": null,
   "id": "4c35def3",
   "metadata": {},
   "outputs": [],
   "source": [
    "\n",
    "# Query 3\n",
    "q3 = '''\n",
    "SELECT p.maker, l.model, l.speed, l.ram, l.hd, l.screen, l.price,\n",
    "       ROUND( (l.price / NULLIF(l.speed * (l.ram/1024.0), 0)), 2) AS value_score\n",
    "FROM product p\n",
    "JOIN laptop l USING (model)\n",
    "WHERE l.speed IS NOT NULL AND l.ram IS NOT NULL AND l.price IS NOT NULL\n",
    "ORDER BY value_score ASC, l.price ASC\n",
    "LIMIT 15;\n",
    "'''\n",
    "run_query(q3)\n"
   ]
  },
  {
   "cell_type": "code",
   "execution_count": null,
   "id": "47ca91af",
   "metadata": {},
   "outputs": [],
   "source": [
    "\n",
    "# Classmate Query 1\n",
    "sql_1 = \"\"\"\n",
    "-- Paste your classmate's SQL here\n",
    "\"\"\"\n",
    "try:\n",
    "    display(run_query(sql_1).head(50))\n",
    "except Exception as e:\n",
    "    print(\"Error:\", e)\n"
   ]
  },
  {
   "cell_type": "code",
   "execution_count": null,
   "id": "cf301b84",
   "metadata": {},
   "outputs": [],
   "source": [
    "\n",
    "# Classmate Query 2\n",
    "sql_2 = \"\"\"\n",
    "-- Paste your classmate's SQL here\n",
    "\"\"\"\n",
    "try:\n",
    "    display(run_query(sql_2).head(50))\n",
    "except Exception as e:\n",
    "    print(\"Error:\", e)\n"
   ]
  },
  {
   "cell_type": "code",
   "execution_count": null,
   "id": "020f1616",
   "metadata": {},
   "outputs": [],
   "source": [
    "\n",
    "# Classmate Query 3\n",
    "sql_3 = \"\"\"\n",
    "-- Paste your classmate's SQL here\n",
    "\"\"\"\n",
    "try:\n",
    "    display(run_query(sql_3).head(50))\n",
    "except Exception as e:\n",
    "    print(\"Error:\", e)\n"
   ]
  }
 ],
 "metadata": {},
 "nbformat": 4,
 "nbformat_minor": 5
}
